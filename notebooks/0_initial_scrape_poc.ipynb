{
 "cells": [
  {
   "cell_type": "code",
   "execution_count": 1,
   "id": "4b6edeb2-6f4d-42fa-9796-9a7f07a6b18a",
   "metadata": {},
   "outputs": [],
   "source": [
    "import pandas as pd\n",
    "import numpy as np\n",
    "import requests\n",
    "import json\n",
    "import time\n",
    "import os"
   ]
  },
  {
   "cell_type": "code",
   "execution_count": 2,
   "id": "bc99cade-e56e-4c3f-921a-b714ed10987a",
   "metadata": {},
   "outputs": [],
   "source": [
    "%reload_ext dotenv\n",
    "%dotenv"
   ]
  },
  {
   "cell_type": "code",
   "execution_count": 3,
   "id": "c0ba0fb5-58d8-45f2-a70b-2aaff50f763a",
   "metadata": {},
   "outputs": [],
   "source": [
    "coordinates = ['27.7172, 85.3240']\n",
    "keywords = ['burger house and crunchy fried chicken']\n",
    "radius = '50000'\n",
    "api_key = os.getenv('api_key'),"
   ]
  },
  {
   "cell_type": "code",
   "execution_count": 4,
   "id": "377932b7-8866-4bc2-93b4-ae8636ac3673",
   "metadata": {},
   "outputs": [],
   "source": [
    "### The google places api did not take prepaid account, need to find something else\n",
    "### Mapbox did not find burger house and crunchy fried chicken in kathmandu"
   ]
  }
 ],
 "metadata": {
  "kernelspec": {
   "display_name": "Python 3 (ipykernel)",
   "language": "python",
   "name": "python3"
  },
  "language_info": {
   "codemirror_mode": {
    "name": "ipython",
    "version": 3
   },
   "file_extension": ".py",
   "mimetype": "text/x-python",
   "name": "python",
   "nbconvert_exporter": "python",
   "pygments_lexer": "ipython3",
   "version": "3.8.3"
  }
 },
 "nbformat": 4,
 "nbformat_minor": 5
}
