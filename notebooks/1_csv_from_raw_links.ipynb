{
 "cells": [
  {
   "cell_type": "markdown",
   "id": "a7100fbf-e329-449d-83bd-22644a46e53b",
   "metadata": {},
   "source": [
    "# Parse urls to build a CSV file\n",
    "> In the first notebook, we tried to automate that process of scraping locations of burger houses but we failed due to various reasons (credit card issue, API not matured enough etc.). We then collected some URLs from google and stored them in `init_ra_url.txt` file. \n",
    "\n",
    "> In this notebook, we will parse the URL to get relevant information (name, lat, lng)"
   ]
  },
  {
   "cell_type": "code",
   "execution_count": 1,
   "id": "4b6edeb2-6f4d-42fa-9796-9a7f07a6b18a",
   "metadata": {},
   "outputs": [],
   "source": [
    "import pandas as pd"
   ]
  },
  {
   "cell_type": "code",
   "execution_count": 2,
   "id": "64d3e5e2-32f5-4dee-8fb7-95ab0081d99d",
   "metadata": {},
   "outputs": [],
   "source": [
    "raw_list = []\n",
    "f = open(\"../data/init_raw_url.txt\", \"r\")\n",
    "for x in f:\n",
    "  raw_list.append(x)"
   ]
  },
  {
   "cell_type": "markdown",
   "id": "17519593-95d0-453d-9bed-abb90cc17ede",
   "metadata": {},
   "source": [
    "# Creating a variable temp, to see how we can break down the url"
   ]
  },
  {
   "cell_type": "code",
   "execution_count": 3,
   "id": "1f5e6da8-68ea-416a-9c2a-1cde6d3b6a9b",
   "metadata": {},
   "outputs": [],
   "source": [
    "temp = raw_list[0]"
   ]
  },
  {
   "cell_type": "code",
   "execution_count": 4,
   "id": "39071d77-5c1c-432f-afff-a92b7dd746e2",
   "metadata": {},
   "outputs": [
    {
     "data": {
      "text/plain": [
       "['https://www.google.com/maps/place/(Chabahil)+The+Burger+House+And+Crunchy+Fried+Chicken/@27.6480176,85.2876797,10.25z/data=',\n",
       " '4m9',\n",
       " '1m2',\n",
       " '2m1',\n",
       " '1sburger+house+and+crunchy+fried+chicken+locations',\n",
       " '3m5',\n",
       " '1s0x39eb1950f19a765f:0x87ab50d3f8404a76',\n",
       " '8m2',\n",
       " '3d27.7191801',\n",
       " '4d85.3480456',\n",
       " '15sCjBidXJnZXIgaG91c2UgYW5kIGNydW5jaHkgZnJpZWQgY2hpY2tlbiBsb2NhdGlvbnMiA4gBAVooIiZidXJnZXIgaG91c2UgYW5kIGNydW5jaHkgZnJpZWQgY2hpY2tlbpIBCnJlc3RhdXJhbnQ\\n']"
      ]
     },
     "execution_count": 4,
     "metadata": {},
     "output_type": "execute_result"
    }
   ],
   "source": [
    "temp.split(\"!\")"
   ]
  },
  {
   "cell_type": "code",
   "execution_count": 5,
   "id": "5a5c6273-9b26-4306-9de7-c53c4722aaac",
   "metadata": {},
   "outputs": [
    {
     "data": {
      "text/plain": [
       "'27.7191801'"
      ]
     },
     "execution_count": 5,
     "metadata": {},
     "output_type": "execute_result"
    }
   ],
   "source": [
    "temp.split(\"!\")[-3][2:]"
   ]
  },
  {
   "cell_type": "code",
   "execution_count": 6,
   "id": "0dba6334-4fb5-4b1c-9cd0-7facd37d0409",
   "metadata": {},
   "outputs": [
    {
     "data": {
      "text/plain": [
       "'85.3480456'"
      ]
     },
     "execution_count": 6,
     "metadata": {},
     "output_type": "execute_result"
    }
   ],
   "source": [
    "temp.split(\"!\")[-2][2:]"
   ]
  },
  {
   "cell_type": "code",
   "execution_count": 7,
   "id": "c594a3b9-bf18-4227-87de-a7d59337a475",
   "metadata": {},
   "outputs": [
    {
     "data": {
      "text/plain": [
       "'(Chabahil) The Burger House And Crunchy Fried Chicken'"
      ]
     },
     "execution_count": 7,
     "metadata": {},
     "output_type": "execute_result"
    }
   ],
   "source": [
    "temp.split(\"!\")[0].split(\"/\")[-3].replace(\"+\", \" \")"
   ]
  },
  {
   "cell_type": "markdown",
   "id": "aafe142d-a93d-4fee-a0dc-c82e345406d9",
   "metadata": {},
   "source": [
    "# Lets loop now"
   ]
  },
  {
   "cell_type": "code",
   "execution_count": 8,
   "id": "06c863f2-4a61-475b-b565-5a8eb31e9890",
   "metadata": {},
   "outputs": [],
   "source": [
    "final_list = []\n",
    "for url in raw_list:\n",
    "    url_split = url.split(\"!\")\n",
    "    lat = url_split[-3][2:]\n",
    "    lon = url_split[-2][2:]\n",
    "    name = url_split[0].split(\"/\")[-3].replace(\"+\", \" \")\n",
    "    final_list.append([name, float(lat), float(lon)])"
   ]
  },
  {
   "cell_type": "code",
   "execution_count": 9,
   "id": "5e8bdce7-dace-4094-b3c1-f5b608f281c0",
   "metadata": {},
   "outputs": [
    {
     "data": {
      "text/plain": [
       "[['(Chabahil) The Burger House And Crunchy Fried Chicken',\n",
       "  27.7191801,\n",
       "  85.3480456],\n",
       " ['The Burger House and Crunchy Fried Chicken Kapan Branch',\n",
       "  27.7272241,\n",
       "  85.3564988],\n",
       " [\"The Burger House 'N' Crunchy Fried Chicken\", 27.7051632, 85.3286974],\n",
       " ['The Burger House %26 Crunchy Fried Chicken', 27.6979607, 85.3379155],\n",
       " ['The Burger House And Crunchy Fried Chicken', 27.7369471, 85.3239314],\n",
       " ['The Burger House And Crunchy Fried Chicken', 27.7369471, 85.3239314],\n",
       " ['The Burger House and Crunchy Fried Chicken Magarajgunj',\n",
       "  27.7391325,\n",
       "  85.33937],\n",
       " ['The Burger House and Crunchy Fried Chicken', 27.735334, 85.315444],\n",
       " ['The Burger House and Crunchy Fried Chicken', 27.7213048, 85.3682852],\n",
       " ['The Burger House and Crunchy Fried Chicken', 27.7241798, 85.3399848],\n",
       " ['The Burger house and crunchy fried chicken - Sinamangal',\n",
       "  27.6951979,\n",
       "  85.3546117],\n",
       " ['The Burger House %26 Crunchy Fried Chicken', 27.7031225, 85.3409609],\n",
       " ['The Burger House and Crunchy Fried Chicken(Boudha,pipalbot)',\n",
       "  27.7206212,\n",
       "  85.3636088],\n",
       " ['The Burger House %26 Crunchy Fried Chicken', 27.6857224, 85.3350525],\n",
       " ['The Burger House And Crunchy Fried Chicken( Kadaghari khasimod)',\n",
       "  27.6974415,\n",
       "  85.3707804],\n",
       " ['The Burger House And Crunchy Fried Chicken, Atma Gyan, Samakhusi, Kathmandu',\n",
       "  27.7301745,\n",
       "  85.3146663],\n",
       " ['The Burger House And Crunchy Fried Chicken, Sukedhara',\n",
       "  27.7299492,\n",
       "  85.3479204],\n",
       " ['The Burger House and Crunchy Fried Chicken', 27.6910128, 85.3653673],\n",
       " ['The Burger House and Crunchy Fried Chicken-kuleshwor',\n",
       "  27.6914383,\n",
       "  85.2990455],\n",
       " ['The Burger House and Crunchy Fried Chicken-Jalpa Chowk',\n",
       "  27.7470763,\n",
       "  85.3174871]]"
      ]
     },
     "execution_count": 9,
     "metadata": {},
     "output_type": "execute_result"
    }
   ],
   "source": [
    "final_list"
   ]
  },
  {
   "cell_type": "code",
   "execution_count": 10,
   "id": "123dcd81-a808-4033-9276-2f2b68bf639d",
   "metadata": {},
   "outputs": [
    {
     "data": {
      "text/plain": [
       "20"
      ]
     },
     "execution_count": 10,
     "metadata": {},
     "output_type": "execute_result"
    }
   ],
   "source": [
    "len(final_list)"
   ]
  },
  {
   "cell_type": "code",
   "execution_count": 11,
   "id": "2ba69741-5dbe-4f39-b44b-f937f90af534",
   "metadata": {},
   "outputs": [],
   "source": [
    "final = pd.DataFrame(final_list, columns=['name', 'lat', 'lng']).drop_duplicates(['lat', 'lng'])"
   ]
  },
  {
   "cell_type": "code",
   "execution_count": 12,
   "id": "183ba7b8-a1fe-4a59-beaa-df117225a624",
   "metadata": {},
   "outputs": [
    {
     "data": {
      "text/html": [
       "<div>\n",
       "<style scoped>\n",
       "    .dataframe tbody tr th:only-of-type {\n",
       "        vertical-align: middle;\n",
       "    }\n",
       "\n",
       "    .dataframe tbody tr th {\n",
       "        vertical-align: top;\n",
       "    }\n",
       "\n",
       "    .dataframe thead th {\n",
       "        text-align: right;\n",
       "    }\n",
       "</style>\n",
       "<table border=\"1\" class=\"dataframe\">\n",
       "  <thead>\n",
       "    <tr style=\"text-align: right;\">\n",
       "      <th></th>\n",
       "      <th>name</th>\n",
       "      <th>lat</th>\n",
       "      <th>lng</th>\n",
       "    </tr>\n",
       "  </thead>\n",
       "  <tbody>\n",
       "    <tr>\n",
       "      <th>0</th>\n",
       "      <td>(Chabahil) The Burger House And Crunchy Fried ...</td>\n",
       "      <td>27.719180</td>\n",
       "      <td>85.348046</td>\n",
       "    </tr>\n",
       "    <tr>\n",
       "      <th>1</th>\n",
       "      <td>The Burger House and Crunchy Fried Chicken Kap...</td>\n",
       "      <td>27.727224</td>\n",
       "      <td>85.356499</td>\n",
       "    </tr>\n",
       "    <tr>\n",
       "      <th>2</th>\n",
       "      <td>The Burger House 'N' Crunchy Fried Chicken</td>\n",
       "      <td>27.705163</td>\n",
       "      <td>85.328697</td>\n",
       "    </tr>\n",
       "    <tr>\n",
       "      <th>3</th>\n",
       "      <td>The Burger House %26 Crunchy Fried Chicken</td>\n",
       "      <td>27.697961</td>\n",
       "      <td>85.337915</td>\n",
       "    </tr>\n",
       "    <tr>\n",
       "      <th>4</th>\n",
       "      <td>The Burger House And Crunchy Fried Chicken</td>\n",
       "      <td>27.736947</td>\n",
       "      <td>85.323931</td>\n",
       "    </tr>\n",
       "    <tr>\n",
       "      <th>6</th>\n",
       "      <td>The Burger House and Crunchy Fried Chicken Mag...</td>\n",
       "      <td>27.739133</td>\n",
       "      <td>85.339370</td>\n",
       "    </tr>\n",
       "    <tr>\n",
       "      <th>7</th>\n",
       "      <td>The Burger House and Crunchy Fried Chicken</td>\n",
       "      <td>27.735334</td>\n",
       "      <td>85.315444</td>\n",
       "    </tr>\n",
       "    <tr>\n",
       "      <th>8</th>\n",
       "      <td>The Burger House and Crunchy Fried Chicken</td>\n",
       "      <td>27.721305</td>\n",
       "      <td>85.368285</td>\n",
       "    </tr>\n",
       "    <tr>\n",
       "      <th>9</th>\n",
       "      <td>The Burger House and Crunchy Fried Chicken</td>\n",
       "      <td>27.724180</td>\n",
       "      <td>85.339985</td>\n",
       "    </tr>\n",
       "    <tr>\n",
       "      <th>10</th>\n",
       "      <td>The Burger house and crunchy fried chicken - S...</td>\n",
       "      <td>27.695198</td>\n",
       "      <td>85.354612</td>\n",
       "    </tr>\n",
       "    <tr>\n",
       "      <th>11</th>\n",
       "      <td>The Burger House %26 Crunchy Fried Chicken</td>\n",
       "      <td>27.703122</td>\n",
       "      <td>85.340961</td>\n",
       "    </tr>\n",
       "    <tr>\n",
       "      <th>12</th>\n",
       "      <td>The Burger House and Crunchy Fried Chicken(Bou...</td>\n",
       "      <td>27.720621</td>\n",
       "      <td>85.363609</td>\n",
       "    </tr>\n",
       "    <tr>\n",
       "      <th>13</th>\n",
       "      <td>The Burger House %26 Crunchy Fried Chicken</td>\n",
       "      <td>27.685722</td>\n",
       "      <td>85.335053</td>\n",
       "    </tr>\n",
       "    <tr>\n",
       "      <th>14</th>\n",
       "      <td>The Burger House And Crunchy Fried Chicken( Ka...</td>\n",
       "      <td>27.697442</td>\n",
       "      <td>85.370780</td>\n",
       "    </tr>\n",
       "    <tr>\n",
       "      <th>15</th>\n",
       "      <td>The Burger House And Crunchy Fried Chicken, At...</td>\n",
       "      <td>27.730175</td>\n",
       "      <td>85.314666</td>\n",
       "    </tr>\n",
       "    <tr>\n",
       "      <th>16</th>\n",
       "      <td>The Burger House And Crunchy Fried Chicken, Su...</td>\n",
       "      <td>27.729949</td>\n",
       "      <td>85.347920</td>\n",
       "    </tr>\n",
       "    <tr>\n",
       "      <th>17</th>\n",
       "      <td>The Burger House and Crunchy Fried Chicken</td>\n",
       "      <td>27.691013</td>\n",
       "      <td>85.365367</td>\n",
       "    </tr>\n",
       "    <tr>\n",
       "      <th>18</th>\n",
       "      <td>The Burger House and Crunchy Fried Chicken-kul...</td>\n",
       "      <td>27.691438</td>\n",
       "      <td>85.299046</td>\n",
       "    </tr>\n",
       "    <tr>\n",
       "      <th>19</th>\n",
       "      <td>The Burger House and Crunchy Fried Chicken-Jal...</td>\n",
       "      <td>27.747076</td>\n",
       "      <td>85.317487</td>\n",
       "    </tr>\n",
       "  </tbody>\n",
       "</table>\n",
       "</div>"
      ],
      "text/plain": [
       "                                                 name        lat        lng\n",
       "0   (Chabahil) The Burger House And Crunchy Fried ...  27.719180  85.348046\n",
       "1   The Burger House and Crunchy Fried Chicken Kap...  27.727224  85.356499\n",
       "2          The Burger House 'N' Crunchy Fried Chicken  27.705163  85.328697\n",
       "3          The Burger House %26 Crunchy Fried Chicken  27.697961  85.337915\n",
       "4          The Burger House And Crunchy Fried Chicken  27.736947  85.323931\n",
       "6   The Burger House and Crunchy Fried Chicken Mag...  27.739133  85.339370\n",
       "7          The Burger House and Crunchy Fried Chicken  27.735334  85.315444\n",
       "8          The Burger House and Crunchy Fried Chicken  27.721305  85.368285\n",
       "9          The Burger House and Crunchy Fried Chicken  27.724180  85.339985\n",
       "10  The Burger house and crunchy fried chicken - S...  27.695198  85.354612\n",
       "11         The Burger House %26 Crunchy Fried Chicken  27.703122  85.340961\n",
       "12  The Burger House and Crunchy Fried Chicken(Bou...  27.720621  85.363609\n",
       "13         The Burger House %26 Crunchy Fried Chicken  27.685722  85.335053\n",
       "14  The Burger House And Crunchy Fried Chicken( Ka...  27.697442  85.370780\n",
       "15  The Burger House And Crunchy Fried Chicken, At...  27.730175  85.314666\n",
       "16  The Burger House And Crunchy Fried Chicken, Su...  27.729949  85.347920\n",
       "17         The Burger House and Crunchy Fried Chicken  27.691013  85.365367\n",
       "18  The Burger House and Crunchy Fried Chicken-kul...  27.691438  85.299046\n",
       "19  The Burger House and Crunchy Fried Chicken-Jal...  27.747076  85.317487"
      ]
     },
     "execution_count": 12,
     "metadata": {},
     "output_type": "execute_result"
    }
   ],
   "source": [
    "final"
   ]
  },
  {
   "cell_type": "markdown",
   "id": "39386be3-d1e7-488c-b93b-d60bfa13a0b0",
   "metadata": {},
   "source": [
    "# Saving to file"
   ]
  }
 ],
 "metadata": {
  "kernelspec": {
   "display_name": "Python 3 (ipykernel)",
   "language": "python",
   "name": "python3"
  },
  "language_info": {
   "codemirror_mode": {
    "name": "ipython",
    "version": 3
   },
   "file_extension": ".py",
   "mimetype": "text/x-python",
   "name": "python",
   "nbconvert_exporter": "python",
   "pygments_lexer": "ipython3",
   "version": "3.8.3"
  }
 },
 "nbformat": 4,
 "nbformat_minor": 5
}
