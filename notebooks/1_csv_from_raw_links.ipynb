{
 "cells": [
  {
   "cell_type": "code",
   "execution_count": 1,
   "id": "4b6edeb2-6f4d-42fa-9796-9a7f07a6b18a",
   "metadata": {},
   "outputs": [],
   "source": [
    "import pandas as pd"
   ]
  },
  {
   "cell_type": "code",
   "execution_count": 2,
   "id": "64d3e5e2-32f5-4dee-8fb7-95ab0081d99d",
   "metadata": {},
   "outputs": [],
   "source": [
    "raw_list = []\n",
    "f = open(\"../data/init_raw_url.txt\", \"r\")\n",
    "for x in f:\n",
    "  raw_list.append(x)"
   ]
  },
  {
   "cell_type": "code",
   "execution_count": 3,
   "id": "1f5e6da8-68ea-416a-9c2a-1cde6d3b6a9b",
   "metadata": {},
   "outputs": [],
   "source": [
    "temp = raw_list[0]"
   ]
  },
  {
   "cell_type": "code",
   "execution_count": 4,
   "id": "39071d77-5c1c-432f-afff-a92b7dd746e2",
   "metadata": {},
   "outputs": [
    {
     "data": {
      "text/plain": [
       "['https://www.google.com/maps/place/(Chabahil)+The+Burger+House+And+Crunchy+Fried+Chicken/@27.6480176,85.2876797,10.25z/data=',\n",
       " '4m9',\n",
       " '1m2',\n",
       " '2m1',\n",
       " '1sburger+house+and+crunchy+fried+chicken+locations',\n",
       " '3m5',\n",
       " '1s0x39eb1950f19a765f:0x87ab50d3f8404a76',\n",
       " '8m2',\n",
       " '3d27.7191801',\n",
       " '4d85.3480456',\n",
       " '15sCjBidXJnZXIgaG91c2UgYW5kIGNydW5jaHkgZnJpZWQgY2hpY2tlbiBsb2NhdGlvbnMiA4gBAVooIiZidXJnZXIgaG91c2UgYW5kIGNydW5jaHkgZnJpZWQgY2hpY2tlbpIBCnJlc3RhdXJhbnQ\\n']"
      ]
     },
     "execution_count": 4,
     "metadata": {},
     "output_type": "execute_result"
    }
   ],
   "source": [
    "temp.split(\"!\")"
   ]
  },
  {
   "cell_type": "code",
   "execution_count": 5,
   "id": "5a5c6273-9b26-4306-9de7-c53c4722aaac",
   "metadata": {},
   "outputs": [
    {
     "data": {
      "text/plain": [
       "'27.7191801'"
      ]
     },
     "execution_count": 5,
     "metadata": {},
     "output_type": "execute_result"
    }
   ],
   "source": [
    "temp.split(\"!\")[-3][2:]"
   ]
  },
  {
   "cell_type": "code",
   "execution_count": 6,
   "id": "0dba6334-4fb5-4b1c-9cd0-7facd37d0409",
   "metadata": {},
   "outputs": [
    {
     "data": {
      "text/plain": [
       "'85.3480456'"
      ]
     },
     "execution_count": 6,
     "metadata": {},
     "output_type": "execute_result"
    }
   ],
   "source": [
    "temp.split(\"!\")[-2][2:]"
   ]
  },
  {
   "cell_type": "code",
   "execution_count": 7,
   "id": "c594a3b9-bf18-4227-87de-a7d59337a475",
   "metadata": {},
   "outputs": [
    {
     "data": {
      "text/plain": [
       "'(Chabahil) The Burger House And Crunchy Fried Chicken'"
      ]
     },
     "execution_count": 7,
     "metadata": {},
     "output_type": "execute_result"
    }
   ],
   "source": [
    "temp.split(\"!\")[0].split(\"/\")[-3].replace(\"+\", \" \")"
   ]
  },
  {
   "cell_type": "markdown",
   "id": "aafe142d-a93d-4fee-a0dc-c82e345406d9",
   "metadata": {},
   "source": [
    "# Lets loop now"
   ]
  },
  {
   "cell_type": "code",
   "execution_count": 8,
   "id": "06c863f2-4a61-475b-b565-5a8eb31e9890",
   "metadata": {},
   "outputs": [],
   "source": [
    "final_list = []\n",
    "for url in raw_list:\n",
    "    url_split = url.split(\"!\")\n",
    "    lat = url_split[-3][2:]\n",
    "    lon = url_split[-2][2:]\n",
    "    name = url_split[0].split(\"/\")[-3].replace(\"+\", \" \")\n",
    "    final_list.append([name, float(lat), float(lon)])"
   ]
  },
  {
   "cell_type": "code",
   "execution_count": 9,
   "id": "5e8bdce7-dace-4094-b3c1-f5b608f281c0",
   "metadata": {},
   "outputs": [
    {
     "data": {
      "text/plain": [
       "[['(Chabahil) The Burger House And Crunchy Fried Chicken',\n",
       "  27.7191801,\n",
       "  85.3480456],\n",
       " ['The Burger House and Crunchy Fried Chicken Kapan Branch',\n",
       "  27.7272241,\n",
       "  85.3564988],\n",
       " [\"The Burger House 'N' Crunchy Fried Chicken\", 27.7051632, 85.3286974],\n",
       " ['The Burger House %26 Crunchy Fried Chicken', 27.6979607, 85.3379155],\n",
       " ['The Burger House And Crunchy Fried Chicken', 27.7369471, 85.3239314],\n",
       " ['The Burger House And Crunchy Fried Chicken', 27.7369471, 85.3239314],\n",
       " ['The Burger House and Crunchy Fried Chicken Magarajgunj',\n",
       "  27.7391325,\n",
       "  85.33937],\n",
       " ['The Burger House and Crunchy Fried Chicken', 27.735334, 85.315444],\n",
       " ['The Burger House and Crunchy Fried Chicken', 27.7213048, 85.3682852],\n",
       " ['The Burger House and Crunchy Fried Chicken', 27.7241798, 85.3399848],\n",
       " ['The Burger house and crunchy fried chicken - Sinamangal',\n",
       "  27.6951979,\n",
       "  85.3546117],\n",
       " ['The Burger House %26 Crunchy Fried Chicken', 27.7031225, 85.3409609],\n",
       " ['The Burger House and Crunchy Fried Chicken(Boudha,pipalbot)',\n",
       "  27.7206212,\n",
       "  85.3636088],\n",
       " ['The Burger House %26 Crunchy Fried Chicken', 27.6857224, 85.3350525],\n",
       " ['The Burger House And Crunchy Fried Chicken( Kadaghari khasimod)',\n",
       "  27.6974415,\n",
       "  85.3707804],\n",
       " ['The Burger House And Crunchy Fried Chicken, Atma Gyan, Samakhusi, Kathmandu',\n",
       "  27.7301745,\n",
       "  85.3146663],\n",
       " ['The Burger House And Crunchy Fried Chicken, Sukedhara',\n",
       "  27.7299492,\n",
       "  85.3479204],\n",
       " ['The Burger House and Crunchy Fried Chicken', 27.6910128, 85.3653673],\n",
       " ['The Burger House and Crunchy Fried Chicken-kuleshwor',\n",
       "  27.6914383,\n",
       "  85.2990455],\n",
       " ['The Burger House and Crunchy Fried Chicken-Jalpa Chowk',\n",
       "  27.7470763,\n",
       "  85.3174871]]"
      ]
     },
     "execution_count": 9,
     "metadata": {},
     "output_type": "execute_result"
    }
   ],
   "source": [
    "final_list"
   ]
  },
  {
   "cell_type": "code",
   "execution_count": 10,
   "id": "123dcd81-a808-4033-9276-2f2b68bf639d",
   "metadata": {},
   "outputs": [
    {
     "data": {
      "text/plain": [
       "20"
      ]
     },
     "execution_count": 10,
     "metadata": {},
     "output_type": "execute_result"
    }
   ],
   "source": [
    "len(final_list)"
   ]
  },
  {
   "cell_type": "code",
   "execution_count": 11,
   "id": "2ba69741-5dbe-4f39-b44b-f937f90af534",
   "metadata": {},
   "outputs": [],
   "source": [
    "final = pd.DataFrame(final_list, columns=['name', 'lat', 'lng']).drop_duplicates(['lat', 'lng'])"
   ]
  },
  {
   "cell_type": "code",
   "execution_count": 12,
   "id": "3fa172f1-0039-4fad-9336-7308f241f6f7",
   "metadata": {},
   "outputs": [],
   "source": [
    "final.to_csv('../data/bhcfc.csv', index=False)"
   ]
  }
 ],
 "metadata": {
  "kernelspec": {
   "display_name": "Python 3 (ipykernel)",
   "language": "python",
   "name": "python3"
  },
  "language_info": {
   "codemirror_mode": {
    "name": "ipython",
    "version": 3
   },
   "file_extension": ".py",
   "mimetype": "text/x-python",
   "name": "python",
   "nbconvert_exporter": "python",
   "pygments_lexer": "ipython3",
   "version": "3.8.3"
  }
 },
 "nbformat": 4,
 "nbformat_minor": 5
}
